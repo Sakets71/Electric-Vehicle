{
 "cells": [
  {
   "cell_type": "code",
   "execution_count": 1,
   "id": "9cb1a98c-09f7-4649-bae6-bee38dd84be2",
   "metadata": {},
   "outputs": [],
   "source": [
    "# Day 6: Basic Modeling – Predicting EV adoption\n",
    "import pandas as pd\n",
    "import numpy as np\n",
    "import matplotlib.pyplot as plt\n",
    "import seaborn as sns\n",
    "\n",
    "# For ML\n",
    "from sklearn.model_selection import train_test_split\n",
    "from sklearn.linear_model import LinearRegression\n",
    "from sklearn.metrics import mean_squared_error, r2_score\n",
    "from sklearn.preprocessing import StandardScaler\n"
   ]
  },
  {
   "cell_type": "code",
   "execution_count": 4,
   "id": "c0b305d0-dfd3-492d-b89d-87679ac08b6b",
   "metadata": {},
   "outputs": [
    {
     "data": {
      "text/html": [
       "<div>\n",
       "<style scoped>\n",
       "    .dataframe tbody tr th:only-of-type {\n",
       "        vertical-align: middle;\n",
       "    }\n",
       "\n",
       "    .dataframe tbody tr th {\n",
       "        vertical-align: top;\n",
       "    }\n",
       "\n",
       "    .dataframe thead th {\n",
       "        text-align: right;\n",
       "    }\n",
       "</style>\n",
       "<table border=\"1\" class=\"dataframe\">\n",
       "  <thead>\n",
       "    <tr style=\"text-align: right;\">\n",
       "      <th></th>\n",
       "      <th>country</th>\n",
       "      <th>iso_code</th>\n",
       "      <th>year</th>\n",
       "      <th>ev_share</th>\n",
       "      <th>population</th>\n",
       "      <th>total_chargers</th>\n",
       "      <th>charger_density_per_100k</th>\n",
       "      <th>population_million</th>\n",
       "    </tr>\n",
       "  </thead>\n",
       "  <tbody>\n",
       "    <tr>\n",
       "      <th>0</th>\n",
       "      <td>Australia</td>\n",
       "      <td>AUS</td>\n",
       "      <td>2011</td>\n",
       "      <td>0.0061</td>\n",
       "      <td>22479723.0</td>\n",
       "      <td>0.0</td>\n",
       "      <td>0.0</td>\n",
       "      <td>22.479723</td>\n",
       "    </tr>\n",
       "    <tr>\n",
       "      <th>1</th>\n",
       "      <td>Australia</td>\n",
       "      <td>AUS</td>\n",
       "      <td>2012</td>\n",
       "      <td>0.0290</td>\n",
       "      <td>22852597.0</td>\n",
       "      <td>0.0</td>\n",
       "      <td>0.0</td>\n",
       "      <td>22.852597</td>\n",
       "    </tr>\n",
       "    <tr>\n",
       "      <th>2</th>\n",
       "      <td>Australia</td>\n",
       "      <td>AUS</td>\n",
       "      <td>2013</td>\n",
       "      <td>0.0330</td>\n",
       "      <td>23236224.0</td>\n",
       "      <td>0.0</td>\n",
       "      <td>0.0</td>\n",
       "      <td>23.236224</td>\n",
       "    </tr>\n",
       "    <tr>\n",
       "      <th>3</th>\n",
       "      <td>Australia</td>\n",
       "      <td>AUS</td>\n",
       "      <td>2014</td>\n",
       "      <td>0.1500</td>\n",
       "      <td>23595552.0</td>\n",
       "      <td>0.0</td>\n",
       "      <td>0.0</td>\n",
       "      <td>23.595552</td>\n",
       "    </tr>\n",
       "    <tr>\n",
       "      <th>4</th>\n",
       "      <td>Australia</td>\n",
       "      <td>AUS</td>\n",
       "      <td>2015</td>\n",
       "      <td>0.1900</td>\n",
       "      <td>23947955.0</td>\n",
       "      <td>0.0</td>\n",
       "      <td>0.0</td>\n",
       "      <td>23.947955</td>\n",
       "    </tr>\n",
       "  </tbody>\n",
       "</table>\n",
       "</div>"
      ],
      "text/plain": [
       "     country iso_code  year  ev_share  population  total_chargers  \\\n",
       "0  Australia      AUS  2011    0.0061  22479723.0             0.0   \n",
       "1  Australia      AUS  2012    0.0290  22852597.0             0.0   \n",
       "2  Australia      AUS  2013    0.0330  23236224.0             0.0   \n",
       "3  Australia      AUS  2014    0.1500  23595552.0             0.0   \n",
       "4  Australia      AUS  2015    0.1900  23947955.0             0.0   \n",
       "\n",
       "   charger_density_per_100k  population_million  \n",
       "0                       0.0           22.479723  \n",
       "1                       0.0           22.852597  \n",
       "2                       0.0           23.236224  \n",
       "3                       0.0           23.595552  \n",
       "4                       0.0           23.947955  "
      ]
     },
     "execution_count": 4,
     "metadata": {},
     "output_type": "execute_result"
    }
   ],
   "source": [
    "# Load merged dataset (from Day 3)\n",
    "data = pd.read_csv(r\"C:\\Users\\Saket\\OneDrive\\Desktop\\4th sem\\python\\EDA\\EV_Market_Analysis\\data\\processed\\ev_merged_cleaned.csv\")\n",
    "\n",
    "# Quick peek\n",
    "data.head()\n"
   ]
  },
  {
   "cell_type": "code",
   "execution_count": 5,
   "id": "2c01cbe0-2869-4d8e-b43e-d607357d0716",
   "metadata": {},
   "outputs": [
    {
     "name": "stdout",
     "output_type": "stream",
     "text": [
      "Dataset size: (444, 3) (444,)\n"
     ]
    }
   ],
   "source": [
    "# Drop rows with missing values in key columns\n",
    "model_data = data.dropna(subset=[\"ev_share\", \"population_million\", \"total_chargers\", \"charger_density_per_100k\"])\n",
    "\n",
    "# Features (X) and target (y)\n",
    "X = model_data[[\"population_million\", \"total_chargers\", \"charger_density_per_100k\"]]\n",
    "y = model_data[\"ev_share\"]\n",
    "\n",
    "print(\"Dataset size:\", X.shape, y.shape)\n"
   ]
  },
  {
   "cell_type": "code",
   "execution_count": 6,
   "id": "021ffcc6-30de-407a-846b-467eebe735c6",
   "metadata": {},
   "outputs": [
    {
     "name": "stdout",
     "output_type": "stream",
     "text": [
      "Train size: 355 | Test size: 89\n"
     ]
    }
   ],
   "source": [
    "# Split into train (80%) and test (20%)\n",
    "X_train, X_test, y_train, y_test = train_test_split(\n",
    "    X, y, test_size=0.2, random_state=42\n",
    ")\n",
    "\n",
    "print(\"Train size:\", X_train.shape[0], \"| Test size:\", X_test.shape[0])\n"
   ]
  },
  {
   "cell_type": "code",
   "execution_count": 7,
   "id": "2656f85c-09d8-4f15-8427-5e4f05c221b8",
   "metadata": {},
   "outputs": [],
   "source": [
    "# Standardize features for better regression stability\n",
    "scaler = StandardScaler()\n",
    "X_train_scaled = scaler.fit_transform(X_train)\n",
    "X_test_scaled = scaler.transform(X_test)\n"
   ]
  },
  {
   "cell_type": "code",
   "execution_count": 8,
   "id": "35834520-e710-4017-b042-3da7fb5a711d",
   "metadata": {},
   "outputs": [
    {
     "name": "stdout",
     "output_type": "stream",
     "text": [
      "Linear Regression Performance:\n",
      "MSE: 253.56\n",
      "R² Score: -0.012\n"
     ]
    }
   ],
   "source": [
    "# Train Linear Regression\n",
    "lr = LinearRegression()\n",
    "lr.fit(X_train_scaled, y_train)\n",
    "\n",
    "# Predictions\n",
    "y_pred = lr.predict(X_test_scaled)\n",
    "\n",
    "# Evaluation\n",
    "mse = mean_squared_error(y_test, y_pred)\n",
    "r2 = r2_score(y_test, y_pred)\n",
    "\n",
    "print(\"Linear Regression Performance:\")\n",
    "print(\"MSE:\", round(mse, 2))\n",
    "print(\"R² Score:\", round(r2, 3))\n"
   ]
  },
  {
   "cell_type": "code",
   "execution_count": 9,
   "id": "1475b1e8-9a4f-4707-84cc-6989fd6a4c0d",
   "metadata": {},
   "outputs": [
    {
     "data": {
      "text/html": [
       "<div>\n",
       "<style scoped>\n",
       "    .dataframe tbody tr th:only-of-type {\n",
       "        vertical-align: middle;\n",
       "    }\n",
       "\n",
       "    .dataframe tbody tr th {\n",
       "        vertical-align: top;\n",
       "    }\n",
       "\n",
       "    .dataframe thead th {\n",
       "        text-align: right;\n",
       "    }\n",
       "</style>\n",
       "<table border=\"1\" class=\"dataframe\">\n",
       "  <thead>\n",
       "    <tr style=\"text-align: right;\">\n",
       "      <th></th>\n",
       "      <th>Feature</th>\n",
       "      <th>Coefficient</th>\n",
       "    </tr>\n",
       "  </thead>\n",
       "  <tbody>\n",
       "    <tr>\n",
       "      <th>1</th>\n",
       "      <td>total_chargers</td>\n",
       "      <td>56.875417</td>\n",
       "    </tr>\n",
       "    <tr>\n",
       "      <th>0</th>\n",
       "      <td>population_million</td>\n",
       "      <td>-0.801219</td>\n",
       "    </tr>\n",
       "    <tr>\n",
       "      <th>2</th>\n",
       "      <td>charger_density_per_100k</td>\n",
       "      <td>-57.140197</td>\n",
       "    </tr>\n",
       "  </tbody>\n",
       "</table>\n",
       "</div>"
      ],
      "text/plain": [
       "                    Feature  Coefficient\n",
       "1            total_chargers    56.875417\n",
       "0        population_million    -0.801219\n",
       "2  charger_density_per_100k   -57.140197"
      ]
     },
     "execution_count": 9,
     "metadata": {},
     "output_type": "execute_result"
    }
   ],
   "source": [
    "# Show coefficients for interpretation\n",
    "feature_importance = pd.DataFrame({\n",
    "    \"Feature\": X.columns,\n",
    "    \"Coefficient\": lr.coef_\n",
    "}).sort_values(by=\"Coefficient\", ascending=False)\n",
    "\n",
    "feature_importance\n"
   ]
  },
  {
   "cell_type": "code",
   "execution_count": 10,
   "id": "3e9ccc1b-4d7b-4d57-80bf-3a9a1ae25276",
   "metadata": {},
   "outputs": [
    {
     "data": {
      "image/png": "[encoded data removed]",
      "text/plain": [
       "<Figure size 600x600 with 1 Axes>"
      ]
     },
     "metadata": {},
     "output_type": "display_data"
    }
   ],
   "source": [
    "plt.figure(figsize=(6,6))\n",
    "sns.scatterplot(x=y_test, y=y_pred, alpha=0.7)\n",
    "plt.xlabel(\"Actual EV Share (%)\")\n",
    "plt.ylabel(\"Predicted EV Share (%)\")\n",
    "plt.title(\"Predicted vs Actual EV Share\")\n",
    "plt.plot([0, max(y_test)], [0, max(y_test)], color=\"red\", linestyle=\"--\")\n",
    "plt.show()\n"
   ]
  },
  {
   "cell_type": "code",
   "execution_count": 11,
   "id": "fa520cce-2467-4c19-ae38-154174dc0926",
   "metadata": {},
   "outputs": [
    {
     "name": "stdout",
     "output_type": "stream",
     "text": [
      "🔍 Interpretation:\n",
      "- R² Score -0.012 means the model explains -1.2% of EV adoption variation.\n",
      "- Positive coefficients → higher values increase EV adoption.\n",
      "- Negative coefficients → higher values reduce EV adoption.\n",
      "This gives insight into whether population or chargers drive adoption more strongly.\n"
     ]
    }
   ],
   "source": [
    "print(\"🔍 Interpretation:\")\n",
    "print(f\"- R² Score {round(r2, 3)} means the model explains {round(r2*100,1)}% of EV adoption variation.\")\n",
    "print(\"- Positive coefficients → higher values increase EV adoption.\")\n",
    "print(\"- Negative coefficients → higher values reduce EV adoption.\")\n",
    "print(\"This gives insight into whether population or chargers drive adoption more strongly.\")\n"
   ]
  },
  {
   "cell_type": "code",
   "execution_count": null,
   "id": "e4baab1c-0c77-4f03-bd65-c14fe6d1e6fc",
   "metadata": {},
   "outputs": [],
   "source": []
  }
 ],
 "metadata": {
  "kernelspec": {
   "display_name": "Python 3 (ipykernel)",
   "language": "python",
   "name": "python3"
  },
  "language_info": {
   "codemirror_mode": {
    "name": "ipython",
    "version": 3
   },
   "file_extension": ".py",
   "mimetype": "text/x-python",
   "name": "python",
   "nbconvert_exporter": "python",
   "pygments_lexer": "ipython3",
   "version": "3.11.0"
  }
 },
 "nbformat": 4,
 "nbformat_minor": 5
}
