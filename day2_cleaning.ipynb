{
 "cells": [
  {
   "cell_type": "code",
   "execution_count": 7,
   "id": "e6bf9fee-9cdc-4f5d-9a9f-873e841f8057",
   "metadata": {},
   "outputs": [
    {
     "name": "stdout",
     "output_type": "stream",
     "text": [
      "Defaulting to user installation because normal site-packages is not writeable\n",
      "Requirement already satisfied: pycountry in c:\\users\\saket\\appdata\\roaming\\python\\python311\\site-packages (24.6.1)\n"
     ]
    }
   ],
   "source": [
    "!pip install pycountry"
   ]
  },
  {
   "cell_type": "code",
   "execution_count": 32,
   "id": "2225033a-2bfe-4c18-b70d-b0204218e159",
   "metadata": {},
   "outputs": [
    {
     "name": "stdout",
     "output_type": "stream",
     "text": [
      "✅ Raw datasets loaded\n"
     ]
    }
   ],
   "source": [
    "# Cell 1: Imports & Load Raw Data\n",
    "import pandas as pd\n",
    "import os\n",
    "\n",
    "# Ensure cleaned folder exists\n",
    "os.makedirs(r\"C:\\Users\\Saket\\OneDrive\\Desktop\\4th sem\\python\\EDA\\EV_Market_Analysis\\data/cleaned\", exist_ok=True)\n",
    "\n",
    "# Load raw datasets\n",
    "ev_sales = pd.read_csv(r\"C:\\Users\\Saket\\OneDrive\\Desktop\\4th sem\\python\\EDA\\EV_Market_Analysis\\data//raw/ev_sales.csv\")\n",
    "charging = pd.read_csv(r\"C:\\Users\\Saket\\OneDrive\\Desktop\\4th sem\\python\\EDA\\EV_Market_Analysis\\data//raw/charging.csv\")\n",
    "gdp = pd.read_csv(r\"C:\\Users\\Saket\\OneDrive\\Desktop\\4th sem\\python\\EDA\\EV_Market_Analysis\\data//raw/gdp.csv\")\n",
    "\n",
    "print(\"✅ Raw datasets loaded\")\n"
   ]
  },
  {
   "cell_type": "code",
   "execution_count": 33,
   "id": "84c293a4-8c2c-419e-beda-2fbabecddf1a",
   "metadata": {},
   "outputs": [
    {
     "name": "stdout",
     "output_type": "stream",
     "text": [
      "EV Sales missing values:\n",
      " Entity                                  0\n",
      "Code                                   45\n",
      "Year                                    0\n",
      "Share of new cars that are electric     0\n",
      "dtype: int64\n",
      "\n",
      "Charging missing values:\n",
      " the_geom                                      0\n",
      "GIS Object ID                                 0\n",
      "Alternative Fuel Type                         0\n",
      "Station Name                                  0\n",
      "Street Address                                0\n",
      "Intersection Information                    246\n",
      "City                                          0\n",
      "State                                         0\n",
      "ZIP Code                                      0\n",
      "ZIP Plus4 Information                       466\n",
      "Phone Number                                 25\n",
      "Status Code                                   0\n",
      "Date Expected to Open                       465\n",
      "Groups with Access                            0\n",
      "Hours of Operation                           41\n",
      "Payments Accepted                           466\n",
      "Biodiesel Blends                            466\n",
      "CNG Dispensing Capability                   466\n",
      "CNG PSI Pressures                           466\n",
      "Number of Level 1 EVSE Outlets              410\n",
      "Number of EVSE Level 2 Outlets               49\n",
      "Number of DC Fast Chargers                  416\n",
      "Number of Other EVSE Connectors             466\n",
      "Name of EVSE Network                        123\n",
      "URL of EVSE Network                         123\n",
      "Accuracy Level of Station Coordinates         0\n",
      "Latitude                                      0\n",
      "Longitude                                     0\n",
      "Date Station Details Last Confirmed           3\n",
      "Station ID                                    0\n",
      "Time Station Details Last Updated             0\n",
      "Owner Type                                  317\n",
      "Federal Agency that Owns Station (Coded)    459\n",
      "Federal Agency that Owns Station            459\n",
      "Date Opened                                 317\n",
      "Station URL                                 466\n",
      "NG Vehicle Class                            466\n",
      "LPG Primary                                 466\n",
      "E85 Blender Pump                            466\n",
      "EVSE Connector Types                          3\n",
      "dtype: int64\n",
      "\n",
      "GDP missing values:\n",
      " Entity                        0\n",
      "Code                       3389\n",
      "Year                          0\n",
      "Population (historical)       0\n",
      "dtype: int64\n"
     ]
    }
   ],
   "source": [
    "# Cell 2: Inspect Missing Values\n",
    "print(\"EV Sales missing values:\\n\", ev_sales.isnull().sum())\n",
    "print(\"\\nCharging missing values:\\n\", charging.isnull().sum())\n",
    "print(\"\\nGDP missing values:\\n\", gdp.isnull().sum())\n"
   ]
  },
  {
   "cell_type": "code",
   "execution_count": 34,
   "id": "40446f51-26e5-42ed-91c8-29028316fd8b",
   "metadata": {},
   "outputs": [
    {
     "name": "stdout",
     "output_type": "stream",
     "text": [
      "✅ Column names standardized\n"
     ]
    }
   ],
   "source": [
    "# Cell 3: Rename Columns for Consistency\n",
    "\n",
    "# EV Sales\n",
    "ev_sales = ev_sales.rename(columns={\n",
    "    \"Entity\": \"country\",\n",
    "    \"Code\": \"iso_code\",\n",
    "    \"Year\": \"year\",\n",
    "    \"Share of new cars that are electric\": \"ev_share\"\n",
    "})\n",
    "\n",
    "# Charging Stations (keep only useful columns for now)\n",
    "charging = charging.rename(columns={\n",
    "    \"Latitude\": \"latitude\",\n",
    "    \"Longitude\": \"longitude\",\n",
    "    \"Number of Level 1 EVSE Outlets\": \"level1_outlets\",\n",
    "    \"Number of EVSE Level 2 Outlets\": \"level2_outlets\",\n",
    "    \"Number of DC Fast Chargers\": \"fast_chargers\",\n",
    "    \"City\": \"city\",\n",
    "    \"State\": \"state\",\n",
    "    \"ZIP Code\": \"zip_code\",\n",
    "    \"Station Name\": \"station_name\"\n",
    "})\n",
    "\n",
    "# GDP/Population\n",
    "gdp = gdp.rename(columns={\n",
    "    \"Entity\": \"country\",\n",
    "    \"Code\": \"iso_code\",\n",
    "    \"Year\": \"year\",\n",
    "    \"Population (historical)\": \"population\"\n",
    "})\n",
    "\n",
    "print(\"✅ Column names standardized\")\n"
   ]
  },
  {
   "cell_type": "code",
   "execution_count": 30,
   "id": "894c537f-2452-4999-9523-40af0fa88fb4",
   "metadata": {},
   "outputs": [
    {
     "name": "stdout",
     "output_type": "stream",
     "text": [
      "✅ Column names standardized\n"
     ]
    }
   ],
   "source": [
    "# Cell 3: Rename Columns for Consistency\n",
    "\n",
    "# EV Sales\n",
    "ev_sales = ev_sales.rename(columns={\n",
    "    \"Entity\": \"country\",\n",
    "    \"Code\": \"iso_code\",\n",
    "    \"Year\": \"year\",\n",
    "    \"Share of new cars that are electric\": \"ev_share\"\n",
    "})\n",
    "\n",
    "# Charging Stations (keep only useful columns for now)\n",
    "charging = charging.rename(columns={\n",
    "    \"Latitude\": \"latitude\",\n",
    "    \"Longitude\": \"longitude\",\n",
    "    \"Number of Level 1 EVSE Outlets\": \"level1_outlets\",\n",
    "    \"Number of EVSE Level 2 Outlets\": \"level2_outlets\",\n",
    "    \"Number of DC Fast Chargers\": \"fast_chargers\",\n",
    "    \"City\": \"city\",\n",
    "    \"State\": \"state\",\n",
    "    \"ZIP Code\": \"zip_code\",\n",
    "    \"Station Name\": \"station_name\"\n",
    "})\n",
    "\n",
    "# GDP/Population\n",
    "gdp = gdp.rename(columns={\n",
    "    \"Entity\": \"country\",\n",
    "    \"Code\": \"iso_code\",\n",
    "    \"Year\": \"year\",\n",
    "    \"Population (historical)\": \"population\"\n",
    "})\n",
    "\n",
    "print(\"✅ Column names standardized\")\n"
   ]
  },
  {
   "cell_type": "code",
   "execution_count": 35,
   "id": "f5c0d38f-6108-4dbe-9afc-b931a7991b53",
   "metadata": {},
   "outputs": [
    {
     "name": "stdout",
     "output_type": "stream",
     "text": [
      "     country  year\n",
      "0  Australia  2011\n",
      "1  Australia  2012\n",
      "2  Australia  2013\n",
      "3  Australia  2014\n",
      "4  Australia  2015\n",
      "       country   year\n",
      "0  Afghanistan -10000\n",
      "1  Afghanistan  -9000\n",
      "2  Afghanistan  -8000\n",
      "3  Afghanistan  -7000\n",
      "4  Afghanistan  -6000\n"
     ]
    }
   ],
   "source": [
    "# Cell 4: Convert Year to Integer\n",
    "ev_sales[\"year\"] = ev_sales[\"year\"].astype(int)\n",
    "gdp[\"year\"] = gdp[\"year\"].astype(int)\n",
    "\n",
    "print(ev_sales[[\"country\", \"year\"]].head())\n",
    "print(gdp[[\"country\", \"year\"]].head())\n"
   ]
  },
  {
   "cell_type": "code",
   "execution_count": 36,
   "id": "1a699510-6c13-4a33-a476-aa51aef9b32f",
   "metadata": {},
   "outputs": [
    {
     "name": "stdout",
     "output_type": "stream",
     "text": [
      "✅ Missing values handled\n"
     ]
    },
    {
     "name": "stderr",
     "output_type": "stream",
     "text": [
      "C:\\Users\\Saket\\AppData\\Local\\Temp\\ipykernel_2960\\3329663508.py:12: FutureWarning: Series.fillna with 'method' is deprecated and will raise in a future version. Use obj.ffill() or obj.bfill() instead.\n",
      "  gdp[\"population\"] = gdp[\"population\"].fillna(method=\"ffill\")\n"
     ]
    }
   ],
   "source": [
    "# Cell 5: Handle Missing Values\n",
    "\n",
    "# For EV share: fill NaN with 0 (assume no adoption if missing)\n",
    "ev_sales[\"ev_share\"] = ev_sales[\"ev_share\"].fillna(0)\n",
    "\n",
    "# For charging dataset: fill missing chargers with 0\n",
    "for col in [\"level1_outlets\", \"level2_outlets\", \"fast_chargers\"]:\n",
    "    if col in charging.columns:\n",
    "        charging[col] = charging[col].fillna(0)\n",
    "\n",
    "# For GDP population: forward fill (as population changes slowly)\n",
    "gdp[\"population\"] = gdp[\"population\"].fillna(method=\"ffill\")\n",
    "\n",
    "print(\"✅ Missing values handled\")\n"
   ]
  },
  {
   "cell_type": "code",
   "execution_count": 37,
   "id": "f2bb69bc-4bd6-40b2-9b0a-1a64db0ff781",
   "metadata": {},
   "outputs": [
    {
     "name": "stdout",
     "output_type": "stream",
     "text": [
      "<class 'pandas.core.frame.DataFrame'>\n",
      "RangeIndex: 492 entries, 0 to 491\n",
      "Data columns (total 4 columns):\n",
      " #   Column    Non-Null Count  Dtype  \n",
      "---  ------    --------------  -----  \n",
      " 0   country   492 non-null    object \n",
      " 1   iso_code  447 non-null    object \n",
      " 2   year      492 non-null    int64  \n",
      " 3   ev_share  492 non-null    float64\n",
      "dtypes: float64(1), int64(1), object(2)\n",
      "memory usage: 15.5+ KB\n",
      "EV Sales:\n",
      " None\n",
      "<class 'pandas.core.frame.DataFrame'>\n",
      "RangeIndex: 466 entries, 0 to 465\n",
      "Data columns (total 40 columns):\n",
      " #   Column                                    Non-Null Count  Dtype  \n",
      "---  ------                                    --------------  -----  \n",
      " 0   the_geom                                  466 non-null    object \n",
      " 1   GIS Object ID                             466 non-null    int64  \n",
      " 2   Alternative Fuel Type                     466 non-null    object \n",
      " 3   station_name                              466 non-null    object \n",
      " 4   Street Address                            466 non-null    object \n",
      " 5   Intersection Information                  220 non-null    object \n",
      " 6   city                                      466 non-null    object \n",
      " 7   state                                     466 non-null    object \n",
      " 8   zip_code                                  466 non-null    int64  \n",
      " 9   ZIP Plus4 Information                     0 non-null      float64\n",
      " 10  Phone Number                              441 non-null    object \n",
      " 11  Status Code                               466 non-null    object \n",
      " 12  Date Expected to Open                     1 non-null      object \n",
      " 13  Groups with Access                        466 non-null    object \n",
      " 14  Hours of Operation                        425 non-null    object \n",
      " 15  Payments Accepted                         0 non-null      float64\n",
      " 16  Biodiesel Blends                          0 non-null      float64\n",
      " 17  CNG Dispensing Capability                 0 non-null      float64\n",
      " 18  CNG PSI Pressures                         0 non-null      float64\n",
      " 19  level1_outlets                            466 non-null    float64\n",
      " 20  level2_outlets                            466 non-null    float64\n",
      " 21  fast_chargers                             466 non-null    float64\n",
      " 22  Number of Other EVSE Connectors           0 non-null      float64\n",
      " 23  Name of EVSE Network                      343 non-null    object \n",
      " 24  URL of EVSE Network                       343 non-null    object \n",
      " 25  Accuracy Level of Station Coordinates     466 non-null    object \n",
      " 26  latitude                                  466 non-null    float64\n",
      " 27  longitude                                 466 non-null    float64\n",
      " 28  Date Station Details Last Confirmed       463 non-null    object \n",
      " 29  Station ID                                466 non-null    int64  \n",
      " 30  Time Station Details Last Updated         466 non-null    object \n",
      " 31  Owner Type                                149 non-null    object \n",
      " 32  Federal Agency that Owns Station (Coded)  7 non-null      float64\n",
      " 33  Federal Agency that Owns Station          7 non-null      object \n",
      " 34  Date Opened                               149 non-null    object \n",
      " 35  Station URL                               0 non-null      float64\n",
      " 36  NG Vehicle Class                          0 non-null      float64\n",
      " 37  LPG Primary                               0 non-null      float64\n",
      " 38  E85 Blender Pump                          0 non-null      float64\n",
      " 39  EVSE Connector Types                      463 non-null    object \n",
      "dtypes: float64(16), int64(3), object(21)\n",
      "memory usage: 145.8+ KB\n",
      "\n",
      "Charging:\n",
      " None\n",
      "<class 'pandas.core.frame.DataFrame'>\n",
      "RangeIndex: 58890 entries, 0 to 58889\n",
      "Data columns (total 4 columns):\n",
      " #   Column      Non-Null Count  Dtype \n",
      "---  ------      --------------  ----- \n",
      " 0   country     58890 non-null  object\n",
      " 1   iso_code    55501 non-null  object\n",
      " 2   year        58890 non-null  int64 \n",
      " 3   population  58890 non-null  int64 \n",
      "dtypes: int64(2), object(2)\n",
      "memory usage: 1.8+ MB\n",
      "\n",
      "GDP:\n",
      " None\n"
     ]
    }
   ],
   "source": [
    "# Cell 6: Quick Summary\n",
    "print(\"EV Sales:\\n\", ev_sales.info())\n",
    "print(\"\\nCharging:\\n\", charging.info())\n",
    "print(\"\\nGDP:\\n\", gdp.info())\n"
   ]
  },
  {
   "cell_type": "code",
   "execution_count": 38,
   "id": "313fb566-7f0e-4241-9489-6b143cc76617",
   "metadata": {},
   "outputs": [
    {
     "name": "stdout",
     "output_type": "stream",
     "text": [
      "✅ Cleaned datasets saved in ../data/cleaned/\n"
     ]
    }
   ],
   "source": [
    "# Cell 7: Save Cleaned Datasets\n",
    "ev_sales.to_csv(r\"C:\\Users\\Saket\\OneDrive\\Desktop\\4th sem\\python\\EDA\\EV_Market_Analysis\\data/cleaned/ev_sales_cleaned.csv\", index=False)\n",
    "charging.to_csv(r\"C:\\Users\\Saket\\OneDrive\\Desktop\\4th sem\\python\\EDA\\EV_Market_Analysis\\data/cleaned/charging_cleaned.csv\", index=False)\n",
    "gdp.to_csv(r\"C:\\Users\\Saket\\OneDrive\\Desktop\\4th sem\\python\\EDA\\EV_Market_Analysis\\data/cleaned/gdp_cleaned.csv\", index=False)\n",
    "\n",
    "print(\"✅ Cleaned datasets saved in ../data/cleaned/\")\n"
   ]
  },
  {
   "cell_type": "code",
   "execution_count": 39,
   "id": "59bfad5f-cfee-40db-9d93-b8605c8f8554",
   "metadata": {},
   "outputs": [
    {
     "name": "stdout",
     "output_type": "stream",
     "text": [
      "✅ Country names standardized\n"
     ]
    }
   ],
   "source": [
    "# Cell 8: Standardize Country Names (optional)\n",
    "# This ensures all country names are consistent\n",
    "\n",
    "try:\n",
    "    import pycountry\n",
    "\n",
    "    def standardize_country(name):\n",
    "        try:\n",
    "            return pycountry.countries.lookup(name).name\n",
    "        except:\n",
    "            return name\n",
    "\n",
    "    ev_sales[\"country\"] = ev_sales[\"country\"].apply(standardize_country)\n",
    "    gdp[\"country\"] = gdp[\"country\"].apply(standardize_country)\n",
    "\n",
    "    print(\"✅ Country names standardized\")\n",
    "except ImportError:\n",
    "    print(\"⚠️ pycountry not installed. Skipping country name standardization.\")\n"
   ]
  },
  {
   "cell_type": "code",
   "execution_count": null,
   "id": "c6d20cdc-6a2c-4a68-b676-514f779592fe",
   "metadata": {},
   "outputs": [],
   "source": []
  }
 ],
 "metadata": {
  "kernelspec": {
   "display_name": "Python 3 (ipykernel)",
   "language": "python",
   "name": "python3"
  },
  "language_info": {
   "codemirror_mode": {
    "name": "ipython",
    "version": 3
   },
   "file_extension": ".py",
   "mimetype": "text/x-python",
   "name": "python",
   "nbconvert_exporter": "python",
   "pygments_lexer": "ipython3",
   "version": "3.11.0"
  }
 },
 "nbformat": 4,
 "nbformat_minor": 5
}
