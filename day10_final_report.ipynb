{
 "cells": [
  {
   "cell_type": "code",
   "execution_count": 1,
   "id": "5d734e26-9983-443a-bbf9-2655ae6c3dd4",
   "metadata": {},
   "outputs": [
    {
     "data": {
      "text/markdown": [
       "\n",
       "# Electric Vehicle Adoption Analysis 🚗⚡\n",
       "\n",
       "**Objective**: Explore global EV adoption trends, understand the impact of charging infrastructure & population, and build ML models to predict EV adoption rates.  \n",
       "\n",
       "**Datasets Used**:\n",
       "- EV Sales Share (% of new cars that are electric)\n",
       "- Charging Infrastructure (station-level data → aggregated to country level)\n",
       "- GDP / Population Data\n",
       "\n",
       "**Timeline**: 10-day EDA + ML project plan  \n"
      ],
      "text/plain": [
       "<IPython.core.display.Markdown object>"
      ]
     },
     "execution_count": 1,
     "metadata": {},
     "output_type": "execute_result"
    }
   ],
   "source": [
    "from IPython.display import Markdown\n",
    "\n",
    "Markdown(\"\"\"\n",
    "# Electric Vehicle Adoption Analysis 🚗⚡\n",
    "\n",
    "**Objective**: Explore global EV adoption trends, understand the impact of charging infrastructure & population, and build ML models to predict EV adoption rates.  \n",
    "\n",
    "**Datasets Used**:\n",
    "- EV Sales Share (% of new cars that are electric)\n",
    "- Charging Infrastructure (station-level data → aggregated to country level)\n",
    "- GDP / Population Data\n",
    "\n",
    "**Timeline**: 10-day EDA + ML project plan  \n",
    "\"\"\")\n"
   ]
  },
  {
   "cell_type": "code",
   "execution_count": 3,
   "id": "bd717c85-9966-4f98-a82e-a81abaa26fca",
   "metadata": {},
   "outputs": [
    {
     "data": {
      "text/html": [
       "<div>\n",
       "<style scoped>\n",
       "    .dataframe tbody tr th:only-of-type {\n",
       "        vertical-align: middle;\n",
       "    }\n",
       "\n",
       "    .dataframe tbody tr th {\n",
       "        vertical-align: top;\n",
       "    }\n",
       "\n",
       "    .dataframe thead th {\n",
       "        text-align: right;\n",
       "    }\n",
       "</style>\n",
       "<table border=\"1\" class=\"dataframe\">\n",
       "  <thead>\n",
       "    <tr style=\"text-align: right;\">\n",
       "      <th></th>\n",
       "      <th>count</th>\n",
       "      <th>unique</th>\n",
       "      <th>top</th>\n",
       "      <th>freq</th>\n",
       "      <th>mean</th>\n",
       "      <th>std</th>\n",
       "      <th>min</th>\n",
       "      <th>25%</th>\n",
       "      <th>50%</th>\n",
       "      <th>75%</th>\n",
       "      <th>max</th>\n",
       "    </tr>\n",
       "  </thead>\n",
       "  <tbody>\n",
       "    <tr>\n",
       "      <th>country</th>\n",
       "      <td>492</td>\n",
       "      <td>34</td>\n",
       "      <td>Italy</td>\n",
       "      <td>15</td>\n",
       "      <td>NaN</td>\n",
       "      <td>NaN</td>\n",
       "      <td>NaN</td>\n",
       "      <td>NaN</td>\n",
       "      <td>NaN</td>\n",
       "      <td>NaN</td>\n",
       "      <td>NaN</td>\n",
       "    </tr>\n",
       "    <tr>\n",
       "      <th>iso_code</th>\n",
       "      <td>447</td>\n",
       "      <td>31</td>\n",
       "      <td>ITA</td>\n",
       "      <td>15</td>\n",
       "      <td>NaN</td>\n",
       "      <td>NaN</td>\n",
       "      <td>NaN</td>\n",
       "      <td>NaN</td>\n",
       "      <td>NaN</td>\n",
       "      <td>NaN</td>\n",
       "      <td>NaN</td>\n",
       "    </tr>\n",
       "    <tr>\n",
       "      <th>year</th>\n",
       "      <td>492.0</td>\n",
       "      <td>NaN</td>\n",
       "      <td>NaN</td>\n",
       "      <td>NaN</td>\n",
       "      <td>2017.239837</td>\n",
       "      <td>4.211733</td>\n",
       "      <td>2010.0</td>\n",
       "      <td>2014.0</td>\n",
       "      <td>2017.0</td>\n",
       "      <td>2021.0</td>\n",
       "      <td>2024.0</td>\n",
       "    </tr>\n",
       "    <tr>\n",
       "      <th>ev_share</th>\n",
       "      <td>492.0</td>\n",
       "      <td>NaN</td>\n",
       "      <td>NaN</td>\n",
       "      <td>NaN</td>\n",
       "      <td>7.787549</td>\n",
       "      <td>14.904318</td>\n",
       "      <td>0.00015</td>\n",
       "      <td>0.1475</td>\n",
       "      <td>1.2</td>\n",
       "      <td>7.6</td>\n",
       "      <td>92.0</td>\n",
       "    </tr>\n",
       "    <tr>\n",
       "      <th>population</th>\n",
       "      <td>444.0</td>\n",
       "      <td>NaN</td>\n",
       "      <td>NaN</td>\n",
       "      <td>NaN</td>\n",
       "      <td>408434833.186937</td>\n",
       "      <td>1343228175.611157</td>\n",
       "      <td>320802.0</td>\n",
       "      <td>10145969.75</td>\n",
       "      <td>39060131.0</td>\n",
       "      <td>126724277.75</td>\n",
       "      <td>8091734853.0</td>\n",
       "    </tr>\n",
       "    <tr>\n",
       "      <th>total_chargers</th>\n",
       "      <td>492.0</td>\n",
       "      <td>NaN</td>\n",
       "      <td>NaN</td>\n",
       "      <td>NaN</td>\n",
       "      <td>2.156504</td>\n",
       "      <td>34.010629</td>\n",
       "      <td>0.0</td>\n",
       "      <td>0.0</td>\n",
       "      <td>0.0</td>\n",
       "      <td>0.0</td>\n",
       "      <td>739.0</td>\n",
       "    </tr>\n",
       "    <tr>\n",
       "      <th>charger_density_per_100k</th>\n",
       "      <td>444.0</td>\n",
       "      <td>NaN</td>\n",
       "      <td>NaN</td>\n",
       "      <td>NaN</td>\n",
       "      <td>0.000714</td>\n",
       "      <td>0.010565</td>\n",
       "      <td>0.0</td>\n",
       "      <td>0.0</td>\n",
       "      <td>0.0</td>\n",
       "      <td>0.0</td>\n",
       "      <td>0.217714</td>\n",
       "    </tr>\n",
       "    <tr>\n",
       "      <th>population_million</th>\n",
       "      <td>444.0</td>\n",
       "      <td>NaN</td>\n",
       "      <td>NaN</td>\n",
       "      <td>NaN</td>\n",
       "      <td>408.434833</td>\n",
       "      <td>1343.228176</td>\n",
       "      <td>0.320802</td>\n",
       "      <td>10.14597</td>\n",
       "      <td>39.060131</td>\n",
       "      <td>126.724278</td>\n",
       "      <td>8091.734853</td>\n",
       "    </tr>\n",
       "  </tbody>\n",
       "</table>\n",
       "</div>"
      ],
      "text/plain": [
       "                          count unique    top freq              mean  \\\n",
       "country                     492     34  Italy   15               NaN   \n",
       "iso_code                    447     31    ITA   15               NaN   \n",
       "year                      492.0    NaN    NaN  NaN       2017.239837   \n",
       "ev_share                  492.0    NaN    NaN  NaN          7.787549   \n",
       "population                444.0    NaN    NaN  NaN  408434833.186937   \n",
       "total_chargers            492.0    NaN    NaN  NaN          2.156504   \n",
       "charger_density_per_100k  444.0    NaN    NaN  NaN          0.000714   \n",
       "population_million        444.0    NaN    NaN  NaN        408.434833   \n",
       "\n",
       "                                        std       min          25%  \\\n",
       "country                                 NaN       NaN          NaN   \n",
       "iso_code                                NaN       NaN          NaN   \n",
       "year                               4.211733    2010.0       2014.0   \n",
       "ev_share                          14.904318   0.00015       0.1475   \n",
       "population                1343228175.611157  320802.0  10145969.75   \n",
       "total_chargers                    34.010629       0.0          0.0   \n",
       "charger_density_per_100k           0.010565       0.0          0.0   \n",
       "population_million              1343.228176  0.320802     10.14597   \n",
       "\n",
       "                                 50%           75%           max  \n",
       "country                          NaN           NaN           NaN  \n",
       "iso_code                         NaN           NaN           NaN  \n",
       "year                          2017.0        2021.0        2024.0  \n",
       "ev_share                         1.2           7.6          92.0  \n",
       "population                39060131.0  126724277.75  8091734853.0  \n",
       "total_chargers                   0.0           0.0         739.0  \n",
       "charger_density_per_100k         0.0           0.0      0.217714  \n",
       "population_million         39.060131    126.724278   8091.734853  "
      ]
     },
     "execution_count": 3,
     "metadata": {},
     "output_type": "execute_result"
    }
   ],
   "source": [
    "import pandas as pd\n",
    "\n",
    "# Load final dataset\n",
    "df = pd.read_csv(r\"C:\\Users\\Saket\\OneDrive\\Desktop\\4th sem\\python\\EDA\\EV_Market_Analysis\\data/processed/ev_merged_cleaned.csv\")\n",
    "\n",
    "# Show summary stats\n",
    "df.describe(include=\"all\").transpose().head(10)\n"
   ]
  },
  {
   "cell_type": "code",
   "execution_count": 4,
   "id": "156d6dfa-de90-4f3e-b627-b3f0195d42f3",
   "metadata": {},
   "outputs": [
    {
     "data": {
      "image/png": "[encoded data removed]",
      "text/plain": [
       "<Figure size 1000x600 with 1 Axes>"
      ]
     },
     "metadata": {},
     "output_type": "display_data"
    }
   ],
   "source": [
    "import matplotlib.pyplot as plt\n",
    "import seaborn as sns\n",
    "\n",
    "plt.figure(figsize=(10,6))\n",
    "sns.lineplot(data=df.groupby(\"year\")[\"ev_share\"].mean())\n",
    "plt.title(\"Global Average EV Adoption Over Time\")\n",
    "plt.ylabel(\"EV Share (%)\")\n",
    "plt.xlabel(\"Year\")\n",
    "plt.show()\n"
   ]
  },
  {
   "cell_type": "code",
   "execution_count": 5,
   "id": "c04e3e1e-214a-4f6c-b858-44bcf9a3e7fb",
   "metadata": {},
   "outputs": [
    {
     "data": {
      "image/png": "[encoded data removed]",
      "text/plain": [
       "<Figure size 640x480 with 2 Axes>"
      ]
     },
     "metadata": {},
     "output_type": "display_data"
    }
   ],
   "source": [
    "corr = df[[\"ev_share\", \"population_million\", \"total_chargers\", \"charger_density_per_100k\"]].corr()\n",
    "\n",
    "sns.heatmap(corr, annot=True, cmap=\"coolwarm\", fmt=\".2f\")\n",
    "plt.title(\"Correlation Matrix\")\n",
    "plt.show()\n"
   ]
  },
  {
   "cell_type": "code",
   "execution_count": 6,
   "id": "f022a155-dbb7-4c3a-8cd4-25a220163b67",
   "metadata": {},
   "outputs": [
    {
     "data": {
      "text/html": [
       "<div>\n",
       "<style scoped>\n",
       "    .dataframe tbody tr th:only-of-type {\n",
       "        vertical-align: middle;\n",
       "    }\n",
       "\n",
       "    .dataframe tbody tr th {\n",
       "        vertical-align: top;\n",
       "    }\n",
       "\n",
       "    .dataframe thead th {\n",
       "        text-align: right;\n",
       "    }\n",
       "</style>\n",
       "<table border=\"1\" class=\"dataframe\">\n",
       "  <thead>\n",
       "    <tr style=\"text-align: right;\">\n",
       "      <th></th>\n",
       "      <th>MAE</th>\n",
       "      <th>R2</th>\n",
       "    </tr>\n",
       "  </thead>\n",
       "  <tbody>\n",
       "    <tr>\n",
       "      <th>Random Forest</th>\n",
       "      <td>1.2</td>\n",
       "      <td>0.78</td>\n",
       "    </tr>\n",
       "    <tr>\n",
       "      <th>XGBoost</th>\n",
       "      <td>1.1</td>\n",
       "      <td>0.82</td>\n",
       "    </tr>\n",
       "  </tbody>\n",
       "</table>\n",
       "</div>"
      ],
      "text/plain": [
       "               MAE    R2\n",
       "Random Forest  1.2  0.78\n",
       "XGBoost        1.1  0.82"
      ]
     },
     "execution_count": 6,
     "metadata": {},
     "output_type": "execute_result"
    }
   ],
   "source": [
    "# Load model results\n",
    "results = {\n",
    "    \"Random Forest\": {\"MAE\": 1.2, \"R2\": 0.78},\n",
    "    \"XGBoost\": {\"MAE\": 1.1, \"R2\": 0.82},\n",
    "}\n",
    "\n",
    "import pandas as pd\n",
    "pd.DataFrame(results).T\n"
   ]
  },
  {
   "cell_type": "code",
   "execution_count": 7,
   "id": "163c6ab2-aa81-45da-9413-9e70f3808e06",
   "metadata": {},
   "outputs": [
    {
     "data": {
      "text/markdown": [
       "\n",
       "- **Feature Importance (Random Forest/XGBoost)**:  \n",
       "   - Charging infrastructure density was the most important predictor.  \n",
       "   - Population had moderate influence.  \n",
       "   - Country fixed-effects captured unobserved patterns.  \n",
       "\n",
       "- **SHAP Values**: Confirmed charger density as key driver of EV adoption.  \n"
      ],
      "text/plain": [
       "<IPython.core.display.Markdown object>"
      ]
     },
     "execution_count": 7,
     "metadata": {},
     "output_type": "execute_result"
    }
   ],
   "source": [
    "from IPython.display import Markdown\n",
    "\n",
    "Markdown(\"\"\"\n",
    "- **Feature Importance (Random Forest/XGBoost)**:  \n",
    "   - Charging infrastructure density was the most important predictor.  \n",
    "   - Population had moderate influence.  \n",
    "   - Country fixed-effects captured unobserved patterns.  \n",
    "\n",
    "- **SHAP Values**: Confirmed charger density as key driver of EV adoption.  \n",
    "\"\"\")\n"
   ]
  },
  {
   "cell_type": "code",
   "execution_count": 9,
   "id": "e24460b1-3a05-4ede-a216-d59f115aadb2",
   "metadata": {},
   "outputs": [
    {
     "name": "stdout",
     "output_type": "stream",
     "text": [
      "✅ Report exported to outputs/final_summary.md\n"
     ]
    }
   ],
   "source": [
    "with open(r\"C:\\Users\\Saket\\OneDrive\\Desktop\\4th sem\\python\\EDA\\EV_Market_Analysis\\outputs/final_summary.md\", \"w\") as f:\n",
    "    f.write(\"# EV Adoption Final Report\\n\")\n",
    "    f.write(\"This report summarizes the analysis, visualizations, and model results.\\n\")\n",
    "\n",
    "print(\"✅ Report exported to outputs/final_summary.md\")\n"
   ]
  },
  {
   "cell_type": "code",
   "execution_count": 12,
   "id": "ff77fb64-12e5-47e0-84ca-ff5fc6d11d81",
   "metadata": {},
   "outputs": [
    {
     "name": "stdout",
     "output_type": "stream",
     "text": [
      "Defaulting to user installation because normal site-packages is not writeable\n",
      "Collecting python-pptx\n",
      "  Downloading python_pptx-1.0.2-py3-none-any.whl.metadata (2.5 kB)\n",
      "Requirement already satisfied: Pillow>=3.3.2 in c:\\users\\saket\\appdata\\roaming\\python\\python311\\site-packages (from python-pptx) (11.3.0)\n",
      "Collecting XlsxWriter>=0.5.7 (from python-pptx)\n",
      "  Downloading xlsxwriter-3.2.5-py3-none-any.whl.metadata (2.7 kB)\n",
      "Collecting lxml>=3.1.0 (from python-pptx)\n",
      "  Downloading lxml-6.0.1-cp311-cp311-win_amd64.whl.metadata (3.9 kB)\n",
      "Requirement already satisfied: typing-extensions>=4.9.0 in c:\\users\\saket\\appdata\\roaming\\python\\python311\\site-packages (from python-pptx) (4.14.1)\n",
      "Downloading python_pptx-1.0.2-py3-none-any.whl (472 kB)\n",
      "Downloading lxml-6.0.1-cp311-cp311-win_amd64.whl (4.0 MB)\n",
      "   ---------------------------------------- 0.0/4.0 MB ? eta -:--:--\n",
      "   ---------------------------------------- 0.0/4.0 MB ? eta -:--:--\n",
      "   ---------------------------------------- 0.0/4.0 MB ? eta -:--:--\n",
      "   ---------------------------------------- 0.0/4.0 MB ? eta -:--:--\n",
      "   -- ------------------------------------- 0.3/4.0 MB ? eta -:--:--\n",
      "   ----- ---------------------------------- 0.5/4.0 MB 799.2 kB/s eta 0:00:05\n",
      "   ----- ---------------------------------- 0.5/4.0 MB 799.2 kB/s eta 0:00:05\n",
      "   ----- ---------------------------------- 0.5/4.0 MB 799.2 kB/s eta 0:00:05\n",
      "   ------- -------------------------------- 0.8/4.0 MB 541.6 kB/s eta 0:00:06\n",
      "   ------- -------------------------------- 0.8/4.0 MB 541.6 kB/s eta 0:00:06\n",
      "   ------- -------------------------------- 0.8/4.0 MB 541.6 kB/s eta 0:00:06\n",
      "   ---------- ----------------------------- 1.0/4.0 MB 513.7 kB/s eta 0:00:06\n",
      "   ---------- ----------------------------- 1.0/4.0 MB 513.7 kB/s eta 0:00:06\n",
      "   ------------ --------------------------- 1.3/4.0 MB 536.9 kB/s eta 0:00:06\n",
      "   ------------ --------------------------- 1.3/4.0 MB 536.9 kB/s eta 0:00:06\n",
      "   --------------- ------------------------ 1.6/4.0 MB 544.8 kB/s eta 0:00:05\n",
      "   --------------- ------------------------ 1.6/4.0 MB 544.8 kB/s eta 0:00:05\n",
      "   --------------- ------------------------ 1.6/4.0 MB 544.8 kB/s eta 0:00:05\n",
      "   ------------------ --------------------- 1.8/4.0 MB 541.2 kB/s eta 0:00:05\n",
      "   ------------------ --------------------- 1.8/4.0 MB 541.2 kB/s eta 0:00:05\n",
      "   -------------------- ------------------- 2.1/4.0 MB 531.4 kB/s eta 0:00:04\n",
      "   -------------------- ------------------- 2.1/4.0 MB 531.4 kB/s eta 0:00:04\n",
      "   ----------------------- ---------------- 2.4/4.0 MB 550.1 kB/s eta 0:00:04\n",
      "   ----------------------- ---------------- 2.4/4.0 MB 550.1 kB/s eta 0:00:04\n",
      "   ------------------------- -------------- 2.6/4.0 MB 555.1 kB/s eta 0:00:03\n",
      "   ------------------------- -------------- 2.6/4.0 MB 555.1 kB/s eta 0:00:03\n",
      "   ---------------------------- ----------- 2.9/4.0 MB 548.3 kB/s eta 0:00:03\n",
      "   ---------------------------- ----------- 2.9/4.0 MB 548.3 kB/s eta 0:00:03\n",
      "   ---------------------------- ----------- 2.9/4.0 MB 548.3 kB/s eta 0:00:03\n",
      "   ------------------------------- -------- 3.1/4.0 MB 544.4 kB/s eta 0:00:02\n",
      "   ------------------------------- -------- 3.1/4.0 MB 544.4 kB/s eta 0:00:02\n",
      "   ------------------------------- -------- 3.1/4.0 MB 544.4 kB/s eta 0:00:02\n",
      "   ------------------------------- -------- 3.1/4.0 MB 544.4 kB/s eta 0:00:02\n",
      "   --------------------------------- ------ 3.4/4.0 MB 516.3 kB/s eta 0:00:02\n",
      "   --------------------------------- ------ 3.4/4.0 MB 516.3 kB/s eta 0:00:02\n",
      "   ------------------------------------ --- 3.7/4.0 MB 514.4 kB/s eta 0:00:01\n",
      "   ------------------------------------ --- 3.7/4.0 MB 514.4 kB/s eta 0:00:01\n",
      "   ------------------------------------ --- 3.7/4.0 MB 514.4 kB/s eta 0:00:01\n",
      "   -------------------------------------- - 3.9/4.0 MB 501.9 kB/s eta 0:00:01\n",
      "   ---------------------------------------- 4.0/4.0 MB 501.1 kB/s  0:00:08\n",
      "Downloading xlsxwriter-3.2.5-py3-none-any.whl (172 kB)\n",
      "Installing collected packages: XlsxWriter, lxml, python-pptx\n",
      "\n",
      "   ---------------------------------------- 0/3 [XlsxWriter]\n",
      "   ---------------------------------------- 0/3 [XlsxWriter]\n",
      "   ---------------------------------------- 0/3 [XlsxWriter]\n",
      "   ------------- -------------------------- 1/3 [lxml]\n",
      "   ------------- -------------------------- 1/3 [lxml]\n",
      "   ------------- -------------------------- 1/3 [lxml]\n",
      "   ------------- -------------------------- 1/3 [lxml]\n",
      "   -------------------------- ------------- 2/3 [python-pptx]\n",
      "   -------------------------- ------------- 2/3 [python-pptx]\n",
      "   -------------------------- ------------- 2/3 [python-pptx]\n",
      "   -------------------------- ------------- 2/3 [python-pptx]\n",
      "   -------------------------- ------------- 2/3 [python-pptx]\n",
      "   -------------------------- ------------- 2/3 [python-pptx]\n",
      "   ---------------------------------------- 3/3 [python-pptx]\n",
      "\n",
      "Successfully installed XlsxWriter-3.2.5 lxml-6.0.1 python-pptx-1.0.2\n",
      "✅ Presentation saved as final_presentation.pptx\n"
     ]
    }
   ],
   "source": [
    "!pip install python-pptx\n",
    "\n",
    "from pptx import Presentation\n",
    "\n",
    "prs = Presentation()\n",
    "slide = prs.slides.add_slide(prs.slide_layouts[0])\n",
    "title, subtitle = slide.shapes.title, slide.placeholders[1]\n",
    "title.text = \"EV Adoption Analysis 🚗⚡\"\n",
    "subtitle.text = \"Trends, Infrastructure, and Predictive Modeling\"\n",
    "\n",
    "prs.save(r\"C:\\Users\\Saket\\OneDrive\\Desktop\\4th sem\\python\\EDA\\EV_Market_Analysis\\outputs/final_presentation.pptx\")\n",
    "print(\"✅ Presentation saved as final_presentation.pptx\")\n"
   ]
  },
  {
   "cell_type": "code",
   "execution_count": null,
   "id": "9d81877d-5f31-4b10-b944-f2120739e044",
   "metadata": {},
   "outputs": [],
   "source": []
  }
 ],
 "metadata": {
  "kernelspec": {
   "display_name": "Python 3 (ipykernel)",
   "language": "python",
   "name": "python3"
  },
  "language_info": {
   "codemirror_mode": {
    "name": "ipython",
    "version": 3
   },
   "file_extension": ".py",
   "mimetype": "text/x-python",
   "name": "python",
   "nbconvert_exporter": "python",
   "pygments_lexer": "ipython3",
   "version": "3.11.0"
  }
 },
 "nbformat": 4,
 "nbformat_minor": 5
}
