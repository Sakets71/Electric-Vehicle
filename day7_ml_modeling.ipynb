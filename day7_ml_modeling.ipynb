{
 "cells": [
  {
   "cell_type": "code",
   "execution_count": 5,
   "id": "a5781270-bb52-4903-92e5-6f465bf253e1",
   "metadata": {},
   "outputs": [
    {
     "name": "stdout",
     "output_type": "stream",
     "text": [
      "Defaulting to user installation because normal site-packages is not writeable\n",
      "Requirement already satisfied: xgboost in c:\\users\\saket\\appdata\\roaming\\python\\python311\\site-packages (3.0.4)\n",
      "Requirement already satisfied: numpy in c:\\users\\saket\\appdata\\roaming\\python\\python311\\site-packages (from xgboost) (1.26.4)\n",
      "Requirement already satisfied: scipy in c:\\users\\saket\\appdata\\roaming\\python\\python311\\site-packages (from xgboost) (1.16.1)\n"
     ]
    }
   ],
   "source": [
    "# r\"C:\\Users\\Saket\\OneDrive\\Desktop\\4th sem\\python\\EDA\\EV_Market_Analysis\\data\\processed\\ev_merged_cleaned.csv\"\n",
    "!pip install xgboost\n"
   ]
  },
  {
   "cell_type": "code",
   "execution_count": 7,
   "id": "98608d81-f46b-436b-ae56-3ff0427f8d51",
   "metadata": {},
   "outputs": [
    {
     "ename": "ValueError",
     "evalue": "The python kernel does not appear to be a conda environment.  Please use ``%pip install`` instead.",
     "output_type": "error",
     "traceback": [
      "\u001b[31m---------------------------------------------------------------------------\u001b[39m",
      "\u001b[31mValueError\u001b[39m                                Traceback (most recent call last)",
      "\u001b[36mCell\u001b[39m\u001b[36m \u001b[39m\u001b[32mIn[7]\u001b[39m\u001b[32m, line 1\u001b[39m\n\u001b[32m----> \u001b[39m\u001b[32m1\u001b[39m \u001b[43mget_ipython\u001b[49m\u001b[43m(\u001b[49m\u001b[43m)\u001b[49m\u001b[43m.\u001b[49m\u001b[43mrun_line_magic\u001b[49m\u001b[43m(\u001b[49m\u001b[33;43m'\u001b[39;49m\u001b[33;43mconda\u001b[39;49m\u001b[33;43m'\u001b[39;49m\u001b[43m,\u001b[49m\u001b[43m \u001b[49m\u001b[33;43m'\u001b[39;49m\u001b[33;43minstall -c conda-forge xgboost -y\u001b[39;49m\u001b[33;43m'\u001b[39;49m\u001b[43m)\u001b[49m\n",
      "\u001b[36mFile \u001b[39m\u001b[32m~\\AppData\\Roaming\\Python\\Python311\\site-packages\\IPython\\core\\interactiveshell.py:2504\u001b[39m, in \u001b[36mInteractiveShell.run_line_magic\u001b[39m\u001b[34m(self, magic_name, line, _stack_depth)\u001b[39m\n\u001b[32m   2502\u001b[39m     kwargs[\u001b[33m'\u001b[39m\u001b[33mlocal_ns\u001b[39m\u001b[33m'\u001b[39m] = \u001b[38;5;28mself\u001b[39m.get_local_scope(stack_depth)\n\u001b[32m   2503\u001b[39m \u001b[38;5;28;01mwith\u001b[39;00m \u001b[38;5;28mself\u001b[39m.builtin_trap:\n\u001b[32m-> \u001b[39m\u001b[32m2504\u001b[39m     result = \u001b[43mfn\u001b[49m\u001b[43m(\u001b[49m\u001b[43m*\u001b[49m\u001b[43margs\u001b[49m\u001b[43m,\u001b[49m\u001b[43m \u001b[49m\u001b[43m*\u001b[49m\u001b[43m*\u001b[49m\u001b[43mkwargs\u001b[49m\u001b[43m)\u001b[49m\n\u001b[32m   2506\u001b[39m \u001b[38;5;66;03m# The code below prevents the output from being displayed\u001b[39;00m\n\u001b[32m   2507\u001b[39m \u001b[38;5;66;03m# when using magics with decorator @output_can_be_silenced\u001b[39;00m\n\u001b[32m   2508\u001b[39m \u001b[38;5;66;03m# when the last Python token in the expression is a ';'.\u001b[39;00m\n\u001b[32m   2509\u001b[39m \u001b[38;5;28;01mif\u001b[39;00m \u001b[38;5;28mgetattr\u001b[39m(fn, magic.MAGIC_OUTPUT_CAN_BE_SILENCED, \u001b[38;5;28;01mFalse\u001b[39;00m):\n",
      "\u001b[36mFile \u001b[39m\u001b[32m~\\AppData\\Roaming\\Python\\Python311\\site-packages\\IPython\\core\\magics\\packaging.py:27\u001b[39m, in \u001b[36mis_conda_environment.<locals>.wrapper\u001b[39m\u001b[34m(*args, **kwargs)\u001b[39m\n\u001b[32m     25\u001b[39m \u001b[38;5;66;03m# TODO: does this need to change on windows?\u001b[39;00m\n\u001b[32m     26\u001b[39m \u001b[38;5;28;01mif\u001b[39;00m \u001b[38;5;129;01mnot\u001b[39;00m Path(sys.prefix, \u001b[33m\"\u001b[39m\u001b[33mconda-meta\u001b[39m\u001b[33m\"\u001b[39m, \u001b[33m\"\u001b[39m\u001b[33mhistory\u001b[39m\u001b[33m\"\u001b[39m).exists():\n\u001b[32m---> \u001b[39m\u001b[32m27\u001b[39m     \u001b[38;5;28;01mraise\u001b[39;00m \u001b[38;5;167;01mValueError\u001b[39;00m(\n\u001b[32m     28\u001b[39m         \u001b[33m\"\u001b[39m\u001b[33mThe python kernel does not appear to be a conda environment.  \u001b[39m\u001b[33m\"\u001b[39m\n\u001b[32m     29\u001b[39m         \u001b[33m\"\u001b[39m\u001b[33mPlease use ``\u001b[39m\u001b[33m%\u001b[39m\u001b[33mpip install`` instead.\u001b[39m\u001b[33m\"\u001b[39m\n\u001b[32m     30\u001b[39m     )\n\u001b[32m     31\u001b[39m \u001b[38;5;28;01mreturn\u001b[39;00m func(*args, **kwargs)\n",
      "\u001b[31mValueError\u001b[39m: The python kernel does not appear to be a conda environment.  Please use ``%pip install`` instead."
     ]
    }
   ],
   "source": [
    "conda install -c conda-forge xgboost -y\n"
   ]
  },
  {
   "cell_type": "code",
   "execution_count": 8,
   "id": "4b700a30-8ce1-4e48-b6a1-a4973a226bec",
   "metadata": {},
   "outputs": [],
   "source": [
    "# Day 7: Random Forest & XGBoost Modeling\n",
    "import pandas as pd\n",
    "import numpy as np\n",
    "import matplotlib.pyplot as plt\n",
    "import seaborn as sns\n",
    "\n",
    "from sklearn.model_selection import train_test_split\n",
    "from sklearn.metrics import mean_squared_error, mean_absolute_error, r2_score\n",
    "from sklearn.ensemble import RandomForestRegressor\n",
    "\n",
    "from xgboost import XGBRegressor\n"
   ]
  },
  {
   "cell_type": "code",
   "execution_count": 9,
   "id": "c9f3f643-ca7e-4ed0-bf5b-3cb230e757aa",
   "metadata": {},
   "outputs": [
    {
     "name": "stdout",
     "output_type": "stream",
     "text": [
      "Columns available: ['country', 'iso_code', 'year', 'ev_share', 'population', 'total_chargers', 'charger_density_per_100k', 'population_million']\n"
     ]
    },
    {
     "data": {
      "text/html": [
       "<div>\n",
       "<style scoped>\n",
       "    .dataframe tbody tr th:only-of-type {\n",
       "        vertical-align: middle;\n",
       "    }\n",
       "\n",
       "    .dataframe tbody tr th {\n",
       "        vertical-align: top;\n",
       "    }\n",
       "\n",
       "    .dataframe thead th {\n",
       "        text-align: right;\n",
       "    }\n",
       "</style>\n",
       "<table border=\"1\" class=\"dataframe\">\n",
       "  <thead>\n",
       "    <tr style=\"text-align: right;\">\n",
       "      <th></th>\n",
       "      <th>country</th>\n",
       "      <th>iso_code</th>\n",
       "      <th>year</th>\n",
       "      <th>ev_share</th>\n",
       "      <th>population</th>\n",
       "      <th>total_chargers</th>\n",
       "      <th>charger_density_per_100k</th>\n",
       "      <th>population_million</th>\n",
       "    </tr>\n",
       "  </thead>\n",
       "  <tbody>\n",
       "    <tr>\n",
       "      <th>0</th>\n",
       "      <td>Australia</td>\n",
       "      <td>AUS</td>\n",
       "      <td>2011</td>\n",
       "      <td>0.0061</td>\n",
       "      <td>22479723.0</td>\n",
       "      <td>0.0</td>\n",
       "      <td>0.0</td>\n",
       "      <td>22.479723</td>\n",
       "    </tr>\n",
       "    <tr>\n",
       "      <th>1</th>\n",
       "      <td>Australia</td>\n",
       "      <td>AUS</td>\n",
       "      <td>2012</td>\n",
       "      <td>0.0290</td>\n",
       "      <td>22852597.0</td>\n",
       "      <td>0.0</td>\n",
       "      <td>0.0</td>\n",
       "      <td>22.852597</td>\n",
       "    </tr>\n",
       "    <tr>\n",
       "      <th>2</th>\n",
       "      <td>Australia</td>\n",
       "      <td>AUS</td>\n",
       "      <td>2013</td>\n",
       "      <td>0.0330</td>\n",
       "      <td>23236224.0</td>\n",
       "      <td>0.0</td>\n",
       "      <td>0.0</td>\n",
       "      <td>23.236224</td>\n",
       "    </tr>\n",
       "    <tr>\n",
       "      <th>3</th>\n",
       "      <td>Australia</td>\n",
       "      <td>AUS</td>\n",
       "      <td>2014</td>\n",
       "      <td>0.1500</td>\n",
       "      <td>23595552.0</td>\n",
       "      <td>0.0</td>\n",
       "      <td>0.0</td>\n",
       "      <td>23.595552</td>\n",
       "    </tr>\n",
       "    <tr>\n",
       "      <th>4</th>\n",
       "      <td>Australia</td>\n",
       "      <td>AUS</td>\n",
       "      <td>2015</td>\n",
       "      <td>0.1900</td>\n",
       "      <td>23947955.0</td>\n",
       "      <td>0.0</td>\n",
       "      <td>0.0</td>\n",
       "      <td>23.947955</td>\n",
       "    </tr>\n",
       "  </tbody>\n",
       "</table>\n",
       "</div>"
      ],
      "text/plain": [
       "     country iso_code  year  ev_share  population  total_chargers  \\\n",
       "0  Australia      AUS  2011    0.0061  22479723.0             0.0   \n",
       "1  Australia      AUS  2012    0.0290  22852597.0             0.0   \n",
       "2  Australia      AUS  2013    0.0330  23236224.0             0.0   \n",
       "3  Australia      AUS  2014    0.1500  23595552.0             0.0   \n",
       "4  Australia      AUS  2015    0.1900  23947955.0             0.0   \n",
       "\n",
       "   charger_density_per_100k  population_million  \n",
       "0                       0.0           22.479723  \n",
       "1                       0.0           22.852597  \n",
       "2                       0.0           23.236224  \n",
       "3                       0.0           23.595552  \n",
       "4                       0.0           23.947955  "
      ]
     },
     "execution_count": 9,
     "metadata": {},
     "output_type": "execute_result"
    }
   ],
   "source": [
    "# Load merged + engineered dataset from Day 6\n",
    "df = pd.read_csv(r\"C:\\Users\\Saket\\OneDrive\\Desktop\\4th sem\\python\\EDA\\EV_Market_Analysis\\data\\processed\\ev_merged_cleaned.csv\")\n",
    "\n",
    "print(\"Columns available:\", df.columns.tolist())\n",
    "df.head()\n"
   ]
  },
  {
   "cell_type": "code",
   "execution_count": 10,
   "id": "9747dd32-ce01-49d3-ab0c-4e03630dfb34",
   "metadata": {},
   "outputs": [
    {
     "name": "stdout",
     "output_type": "stream",
     "text": [
      "Feature matrix shape: (492, 3)\n",
      "Target shape: (492,)\n"
     ]
    }
   ],
   "source": [
    "# Features (independent variables)\n",
    "features = ['population_million', 'total_chargers', 'charger_density_per_100k']\n",
    "\n",
    "# Target (dependent variable: EV adoption share)\n",
    "target = 'ev_share'\n",
    "\n",
    "X = df[features]\n",
    "y = df[target]\n",
    "\n",
    "print(\"Feature matrix shape:\", X.shape)\n",
    "print(\"Target shape:\", y.shape)\n"
   ]
  },
  {
   "cell_type": "code",
   "execution_count": 11,
   "id": "06c2b256-5bc6-4c4a-a747-5a5914f66df8",
   "metadata": {},
   "outputs": [
    {
     "name": "stdout",
     "output_type": "stream",
     "text": [
      "Train size: (393, 3)\n",
      "Test size: (99, 3)\n"
     ]
    }
   ],
   "source": [
    "# Split dataset into 80% training and 20% testing\n",
    "X_train, X_test, y_train, y_test = train_test_split(\n",
    "    X, y, test_size=0.2, random_state=42\n",
    ")\n",
    "\n",
    "print(\"Train size:\", X_train.shape)\n",
    "print(\"Test size:\", X_test.shape)\n"
   ]
  },
  {
   "cell_type": "code",
   "execution_count": 12,
   "id": "c0def5df-6101-44a7-896a-c197b2b2ee00",
   "metadata": {},
   "outputs": [
    {
     "name": "stdout",
     "output_type": "stream",
     "text": [
      "Random Forest Performance:\n",
      "R² Score: -0.08507756310960124\n",
      "RMSE: 14.268606831312832\n",
      "MAE: 7.5095181181173905\n"
     ]
    }
   ],
   "source": [
    "# Train Random Forest Regressor\n",
    "rf_model = RandomForestRegressor(\n",
    "    n_estimators=200, random_state=42, max_depth=10\n",
    ")\n",
    "rf_model.fit(X_train, y_train)\n",
    "\n",
    "# Predictions\n",
    "y_pred_rf = rf_model.predict(X_test)\n",
    "\n",
    "# Evaluation\n",
    "print(\"Random Forest Performance:\")\n",
    "print(\"R² Score:\", r2_score(y_test, y_pred_rf))\n",
    "print(\"RMSE:\", np.sqrt(mean_squared_error(y_test, y_pred_rf)))\n",
    "print(\"MAE:\", mean_absolute_error(y_test, y_pred_rf))\n"
   ]
  },
  {
   "cell_type": "code",
   "execution_count": 13,
   "id": "10cdb284-79bd-404a-855c-fbe4026220ca",
   "metadata": {},
   "outputs": [
    {
     "name": "stdout",
     "output_type": "stream",
     "text": [
      "XGBoost Performance:\n",
      "R² Score: -0.1300418386971065\n",
      "RMSE: 14.56124271822236\n",
      "MAE: 8.31675699225941\n"
     ]
    }
   ],
   "source": [
    "# Train XGBoost Regressor\n",
    "xgb_model = XGBRegressor(\n",
    "    n_estimators=500, learning_rate=0.05, max_depth=6, random_state=42\n",
    ")\n",
    "xgb_model.fit(X_train, y_train)\n",
    "\n",
    "# Predictions\n",
    "y_pred_xgb = xgb_model.predict(X_test)\n",
    "\n",
    "# Evaluation\n",
    "print(\"XGBoost Performance:\")\n",
    "print(\"R² Score:\", r2_score(y_test, y_pred_xgb))\n",
    "print(\"RMSE:\", np.sqrt(mean_squared_error(y_test, y_pred_xgb)))\n",
    "print(\"MAE:\", mean_absolute_error(y_test, y_pred_xgb))\n"
   ]
  },
  {
   "cell_type": "code",
   "execution_count": 14,
   "id": "743ba25e-4138-49b2-baae-fcbd7d6bb653",
   "metadata": {},
   "outputs": [
    {
     "data": {
      "text/html": [
       "<div>\n",
       "<style scoped>\n",
       "    .dataframe tbody tr th:only-of-type {\n",
       "        vertical-align: middle;\n",
       "    }\n",
       "\n",
       "    .dataframe tbody tr th {\n",
       "        vertical-align: top;\n",
       "    }\n",
       "\n",
       "    .dataframe thead th {\n",
       "        text-align: right;\n",
       "    }\n",
       "</style>\n",
       "<table border=\"1\" class=\"dataframe\">\n",
       "  <thead>\n",
       "    <tr style=\"text-align: right;\">\n",
       "      <th></th>\n",
       "      <th>Model</th>\n",
       "      <th>R²</th>\n",
       "      <th>RMSE</th>\n",
       "      <th>MAE</th>\n",
       "    </tr>\n",
       "  </thead>\n",
       "  <tbody>\n",
       "    <tr>\n",
       "      <th>0</th>\n",
       "      <td>Random Forest</td>\n",
       "      <td>-0.085078</td>\n",
       "      <td>14.268607</td>\n",
       "      <td>7.509518</td>\n",
       "    </tr>\n",
       "    <tr>\n",
       "      <th>1</th>\n",
       "      <td>XGBoost</td>\n",
       "      <td>-0.130042</td>\n",
       "      <td>14.561243</td>\n",
       "      <td>8.316757</td>\n",
       "    </tr>\n",
       "  </tbody>\n",
       "</table>\n",
       "</div>"
      ],
      "text/plain": [
       "           Model        R²       RMSE       MAE\n",
       "0  Random Forest -0.085078  14.268607  7.509518\n",
       "1        XGBoost -0.130042  14.561243  8.316757"
      ]
     },
     "execution_count": 14,
     "metadata": {},
     "output_type": "execute_result"
    }
   ],
   "source": [
    "results = pd.DataFrame({\n",
    "    \"Model\": [\"Random Forest\", \"XGBoost\"],\n",
    "    \"R²\": [r2_score(y_test, y_pred_rf), r2_score(y_test, y_pred_xgb)],\n",
    "    \"RMSE\": [np.sqrt(mean_squared_error(y_test, y_pred_rf)),\n",
    "             np.sqrt(mean_squared_error(y_test, y_pred_xgb))],\n",
    "    \"MAE\": [mean_absolute_error(y_test, y_pred_rf),\n",
    "            mean_absolute_error(y_test, y_pred_xgb)]\n",
    "})\n",
    "\n",
    "results\n"
   ]
  },
  {
   "cell_type": "code",
   "execution_count": 15,
   "id": "3ff106b4-7f83-4b01-81d3-5e7c2402056a",
   "metadata": {},
   "outputs": [
    {
     "data": {
      "image/png": "[encoded data removed]",
      "text/plain": [
       "<Figure size 1200x500 with 2 Axes>"
      ]
     },
     "metadata": {},
     "output_type": "display_data"
    }
   ],
   "source": [
    "# Random Forest Feature Importance\n",
    "importances_rf = pd.Series(rf_model.feature_importances_, index=features)\n",
    "\n",
    "# XGBoost Feature Importance\n",
    "importances_xgb = pd.Series(xgb_model.feature_importances_, index=features)\n",
    "\n",
    "fig, axes = plt.subplots(1, 2, figsize=(12, 5))\n",
    "\n",
    "importances_rf.sort_values().plot(kind='barh', ax=axes[0], title=\"RF Feature Importance\")\n",
    "importances_xgb.sort_values().plot(kind='barh', ax=axes[1], title=\"XGB Feature Importance\")\n",
    "\n",
    "plt.tight_layout()\n",
    "plt.show()\n"
   ]
  },
  {
   "cell_type": "code",
   "execution_count": 16,
   "id": "ebbfb369-7d89-4585-bb1c-2ed061f31c91",
   "metadata": {},
   "outputs": [
    {
     "data": {
      "image/png": "[encoded data removed]",
      "text/plain": [
       "<Figure size 600x600 with 1 Axes>"
      ]
     },
     "metadata": {},
     "output_type": "display_data"
    }
   ],
   "source": [
    "plt.figure(figsize=(6,6))\n",
    "plt.scatter(y_test, y_pred_xgb, alpha=0.7, label=\"XGBoost Predictions\")\n",
    "plt.scatter(y_test, y_pred_rf, alpha=0.7, label=\"RF Predictions\")\n",
    "plt.plot([0, max(y_test)], [0, max(y_test)], \"r--\", label=\"Perfect Fit\")\n",
    "plt.xlabel(\"Actual EV Share\")\n",
    "plt.ylabel(\"Predicted EV Share\")\n",
    "plt.legend()\n",
    "plt.title(\"Predicted vs Actual (RF & XGBoost)\")\n",
    "plt.show()\n"
   ]
  },
  {
   "cell_type": "code",
   "execution_count": null,
   "id": "be0adafc-146b-4c3c-8b74-198d49b399a7",
   "metadata": {},
   "outputs": [],
   "source": []
  }
 ],
 "metadata": {
  "kernelspec": {
   "display_name": "Python 3 (ipykernel)",
   "language": "python",
   "name": "python3"
  },
  "language_info": {
   "codemirror_mode": {
    "name": "ipython",
    "version": 3
   },
   "file_extension": ".py",
   "mimetype": "text/x-python",
   "name": "python",
   "nbconvert_exporter": "python",
   "pygments_lexer": "ipython3",
   "version": "3.11.0"
  }
 },
 "nbformat": 4,
 "nbformat_minor": 5
}
